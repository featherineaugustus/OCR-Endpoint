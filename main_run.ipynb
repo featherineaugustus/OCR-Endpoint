{
 "cells": [
  {
   "cell_type": "markdown",
   "id": "5583903b",
   "metadata": {},
   "source": [
    "# Start server\n",
    "Use Uvicorn, the production-ready Python ASGI server bundled with FastAPI:\n",
    "\n",
    "Should see:\n",
    "INFO: Uvicorn running on http://127.0.0.1:8000 (Press CTRL+C to quit)"
   ]
  },
  {
   "cell_type": "code",
   "execution_count": null,
   "id": "bd15abe1",
   "metadata": {},
   "outputs": [
    {
     "name": "stdout",
     "output_type": "stream",
     "text": [
      "^C\n"
     ]
    }
   ],
   "source": [
    "uvicorn app.main:app --reload"
   ]
  },
  {
   "cell_type": "code",
   "execution_count": null,
   "id": "0f5afeb6",
   "metadata": {},
   "outputs": [],
   "source": [
    "curl -F file=@/path/to/your.pdf \\\n",
    "     -H \"Content-Type: multipart/form-data\" \\\n",
    "     http://127.0.0.1:8000/ocr\n",
    "\n",
    "/c/Users/Featherine/Downloads/Fullerton assignment/OCR-Endpoint/Documents/Assessment_Documents/medical_certificate.pdf\n",
    "/c/Users/Featherine/Downloads/Fullerton assignment/OCR-Endpoint/Documents/Assessment_Documents/receipt.pdf\n",
    "/c/Users/Featherine/Downloads/Fullerton assignment/OCR-Endpoint/Documents/Assessment_Documents/referral_letter.pdf\n"
   ]
  },
  {
   "cell_type": "code",
   "execution_count": null,
   "id": "576ab07d",
   "metadata": {},
   "outputs": [],
   "source": [
    "curl -F file=@'C:\\Users\\Featherine\\Downloads\\Fullerton_assignment\\OCR-Endpoint\\Documents\\Assessment_Documents\\medical_certificate.pdf' \\\n",
    "    http://127.0.0.1:8000/ocr"
   ]
  },
  {
   "cell_type": "code",
   "execution_count": null,
   "id": "b69adbd3",
   "metadata": {},
   "outputs": [],
   "source": [
    "curl -F file=@'C:\\Users\\Featherine\\Downloads\\Fullerton_assignment\\OCR-Endpoint\\Documents\\Assessment_Documents\\receipt.pdf' \\\n",
    "    http://127.0.0.1:8000/ocr"
   ]
  },
  {
   "cell_type": "code",
   "execution_count": null,
   "id": "7402b414",
   "metadata": {},
   "outputs": [],
   "source": [
    "curl -F file=@'C:\\Users\\Featherine\\Downloads\\Fullerton_assignment\\OCR-Endpoint\\Documents\\Assessment_Documents\\referral_letter.pdf' \\\n",
    "    http://127.0.0.1:8000/ocr"
   ]
  }
 ],
 "metadata": {
  "kernelspec": {
   "display_name": "Python 3",
   "language": "python",
   "name": "python3"
  },
  "language_info": {
   "codemirror_mode": {
    "name": "ipython",
    "version": 3
   },
   "file_extension": ".py",
   "mimetype": "text/x-python",
   "name": "python",
   "nbconvert_exporter": "python",
   "pygments_lexer": "ipython3",
   "version": "3.11.9"
  }
 },
 "nbformat": 4,
 "nbformat_minor": 5
}
